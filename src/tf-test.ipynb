{
 "cells": [
  {
   "cell_type": "code",
   "execution_count": 3,
   "metadata": {},
   "outputs": [
    {
     "name": "stderr",
     "output_type": "stream",
     "text": [
      "2022-06-20 01:23:22.665609: W tensorflow/stream_executor/platform/default/dso_loader.cc:64] Could not load dynamic library 'libcuda.so.1'; dlerror: libcuda.so.1: cannot open shared object file: No such file or directory\n",
      "2022-06-20 01:23:22.665646: W tensorflow/stream_executor/cuda/cuda_driver.cc:269] failed call to cuInit: UNKNOWN ERROR (303)\n",
      "2022-06-20 01:23:22.665686: I tensorflow/stream_executor/cuda/cuda_diagnostics.cc:156] kernel driver does not appear to be running on this host (ip-192-168-0-7.us-east-2.compute.internal): /proc/driver/nvidia/version does not exist\n",
      "2022-06-20 01:23:22.675059: I tensorflow/core/platform/cpu_feature_guard.cc:193] This TensorFlow binary is optimized with oneAPI Deep Neural Network Library (oneDNN) to use the following CPU instructions in performance-critical operations:  AVX2 FMA\n",
      "To enable them in other operations, rebuild TensorFlow with the appropriate compiler flags.\n"
     ]
    },
    {
     "name": "stdout",
     "output_type": "stream",
     "text": [
      "{'CPU': 0.95587158203125}\n"
     ]
    }
   ],
   "source": [
    "import tensorflow as tf\n",
    "import numpy as np\n",
    "import time\n",
    "\n",
    "def matrix_multiply(size: int)-> dict:\n",
    "    \"\"\"\n",
    "    Time a 2D matrix multiply using tensorflow accross all physical devices.\n",
    "    \n",
    "    Args:\n",
    "     - size (int): The matrix size.\n",
    "     - returns (dict): {Device string: elapsed time}\n",
    "     \"\"\"\n",
    "    a = np.random.rand(size, size)\n",
    "    b = np.random.rand(size, size)\n",
    "    results = {}\n",
    "    for dev in tf.config.list_physical_devices():\n",
    "        with tf.device(dev.device_type):\n",
    "                ta = tf.constant(a)\n",
    "                tb = tf.constant(b)\n",
    "                t0 = time.time()\n",
    "                x = tf.matmul(ta, tb)\n",
    "                t1 = time.time()\n",
    "                results.update({dev.device_type:t1 - t0})\n",
    "\n",
    "   \n",
    "    return results\n",
    "\n",
    "print(f'{matrix_multiply(4096)}')\n"
   ]
  },
  {
   "cell_type": "code",
   "execution_count": null,
   "metadata": {},
   "outputs": [],
   "source": []
  }
 ],
 "metadata": {
  "kernelspec": {
   "display_name": "Python 3 (ipykernel)",
   "language": "python",
   "name": "python3"
  },
  "language_info": {
   "codemirror_mode": {
    "name": "ipython",
    "version": 3
   },
   "file_extension": ".py",
   "mimetype": "text/x-python",
   "name": "python",
   "nbconvert_exporter": "python",
   "pygments_lexer": "ipython3",
   "version": "3.8.13"
  },
  "orig_nbformat": 4,
  "vscode": {
   "interpreter": {
    "hash": "31f2aee4e71d21fbe5cf8b01ff0e069b9275f58929596ceb00d14d90e3e16cd6"
   }
  }
 },
 "nbformat": 4,
 "nbformat_minor": 2
}
